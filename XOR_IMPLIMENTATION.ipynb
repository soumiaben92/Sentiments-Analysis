{
  "cells": [
    {
      "cell_type": "markdown",
      "metadata": {
        "id": "view-in-github",
        "colab_type": "text"
      },
      "source": [
        "<a href=\"https://colab.research.google.com/github/soumiaben92/Sentiments-Analysis/blob/main/XOR_IMPLIMENTATION.ipynb\" target=\"_parent\"><img src=\"https://colab.research.google.com/assets/colab-badge.svg\" alt=\"Open In Colab\"/></a>"
      ]
    },
    {
      "cell_type": "code",
      "source": [
        ""
      ],
      "metadata": {
        "id": "nRIAMJFZQM0w"
      },
      "execution_count": null,
      "outputs": []
    },
    {
      "cell_type": "markdown",
      "metadata": {
        "id": "i1Yv8rYNdGgI"
      },
      "source": [
        " # XOR Implimentation with Keras\n",
        "\n",
        "```\n",
        " Author :\n",
        "```"
      ]
    },
    {
      "cell_type": "markdown",
      "metadata": {
        "id": "tS-RReZXdfv8"
      },
      "source": [
        "## Import pakages"
      ]
    },
    {
      "cell_type": "code",
      "execution_count": null,
      "metadata": {
        "id": "8btbSp4MKbO5"
      },
      "outputs": [],
      "source": [
        "import tensorflow as tf\n",
        "from sklearn.model_selection import train_test_split\n",
        "import numpy as np"
      ]
    },
    {
      "cell_type": "markdown",
      "metadata": {
        "id": "sxnV2rmnKyKt"
      },
      "source": [
        "## Create dataset"
      ]
    },
    {
      "cell_type": "code",
      "execution_count": null,
      "metadata": {
        "id": "aXNUveS2K2rh"
      },
      "outputs": [],
      "source": [
        "input = np.array([\n",
        "    [0, 0, 0, 0], # 0\n",
        "    [0, 0, 0, 1], # 1\n",
        "    [0, 0, 1, 0], # 1\n",
        "    [0, 0, 1, 1], # 0\n",
        "    [0, 1, 0, 0], # 1\n",
        "    [0, 1, 0, 1], # 0\n",
        "    [0, 1, 1, 0], # 0\n",
        "    [0, 1, 1, 1], # 1\n",
        "    [1, 0, 0, 0], # 1\n",
        "    [1, 0, 0, 1], # 0\n",
        "    [1, 0, 1, 0], # 0\n",
        "    [1, 0, 1, 1], # 1\n",
        "    [1, 1, 0, 0], # 0\n",
        "    [1, 1, 0, 1], # 1\n",
        "    [1, 1, 1, 0], # 1\n",
        "    [1, 1, 1, 1], # 0\n",
        "]);\n",
        "\n",
        "#Desired output\n",
        "output = np.array([ [0], [1], [1], [0], [1], [0], [0], [1],[1], [0], [0], [1],[0], [1], [1], [0]])\n",
        "\n",
        "print(\"input shape : \",input.shape)\n",
        "print(\"output shape : \",output.shape)"
      ]
    },
    {
      "cell_type": "code",
      "source": [
        ""
      ],
      "metadata": {
        "id": "z6pk_N6NPhnM"
      },
      "execution_count": null,
      "outputs": []
    },
    {
      "cell_type": "markdown",
      "metadata": {
        "id": "PBDkc0kORUkv"
      },
      "source": [
        "## Split data into train , test sets"
      ]
    },
    {
      "cell_type": "code",
      "execution_count": null,
      "metadata": {
        "id": "9_-11B1oQ1_a"
      },
      "outputs": [],
      "source": [
        "x_train, x_test, y_train, y_test = train_test_split(input, output , test_size=0.33)"
      ]
    },
    {
      "cell_type": "code",
      "execution_count": null,
      "metadata": {
        "id": "Zg8v7QFcRkhW"
      },
      "outputs": [],
      "source": [
        "print(\"x_train shape :\", x_train.shape)\n",
        "print(\"y_train shape :\", y_train.shape)\n",
        "print(\"x_test shape :\", x_test.shape)\n",
        "print(\"y_test shape :\",y_test.shape)"
      ]
    },
    {
      "cell_type": "markdown",
      "metadata": {
        "id": "SyKtIFCQLHCg"
      },
      "source": [
        "## Create NN model "
      ]
    },
    {
      "cell_type": "code",
      "execution_count": null,
      "metadata": {
        "id": "Xp8foNsDLJS4"
      },
      "outputs": [],
      "source": [
        "model = tf.keras.models.Sequential()"
      ]
    },
    {
      "cell_type": "code",
      "execution_count": null,
      "metadata": {
        "id": "d2b5X_SPLbBT"
      },
      "outputs": [],
      "source": [
        "model.add(tf.keras.layers.Flatten())"
      ]
    },
    {
      "cell_type": "code",
      "execution_count": null,
      "metadata": {
        "id": "aBy1ba69Lg4E"
      },
      "outputs": [],
      "source": [
        "#model.add(tf.keras.layers.Dense(16, activation=tf.nn.relu))\n",
        "model.add(tf.keras.layers.Dense(4))"
      ]
    },
    {
      "cell_type": "code",
      "execution_count": null,
      "metadata": {
        "id": "CkhHG_oiLuUb"
      },
      "outputs": [],
      "source": [
        "model.add(tf.keras.layers.Dense(1, activation=tf.nn.sigmoid))"
      ]
    },
    {
      "cell_type": "code",
      "execution_count": null,
      "metadata": {
        "id": "TDPc_M-ZL379"
      },
      "outputs": [],
      "source": [
        "model.compile(optimizer=\"SGD\", loss=\"binary_crossentropy\", metrics=[\"binary_accuracy\"])\n",
        "#model.compile(loss='mean_squared_error',\n",
        "#             optimizer='adam',\n",
        "#             metrics=['binary_accuracy', \"accuracy\"])\n"
      ]
    },
    {
      "cell_type": "markdown",
      "metadata": {
        "id": "35BBaKSWeXde"
      },
      "source": [
        "## Train The model"
      ]
    },
    {
      "cell_type": "code",
      "execution_count": null,
      "metadata": {
        "id": "8EP-QRFbMJkF"
      },
      "outputs": [],
      "source": [
        "model.fit(x_train, y_train, epochs=500)"
      ]
    },
    {
      "cell_type": "markdown",
      "metadata": {
        "id": "P89ZH-BGNzJM"
      },
      "source": [
        "## Evaluate the model"
      ]
    },
    {
      "cell_type": "code",
      "execution_count": null,
      "metadata": {
        "colab": {
          "base_uri": "https://localhost:8080/"
        },
        "id": "7c_GaEn5TecX",
        "outputId": "ab02ca78-66ff-4d27-81e2-8dd00acb6fa9"
      },
      "outputs": [
        {
          "output_type": "execute_result",
          "data": {
            "text/plain": [
              "<tf.Tensor: shape=(6, 1), dtype=float32, numpy=\n",
              "array([[1.],\n",
              "       [1.],\n",
              "       [1.],\n",
              "       [1.],\n",
              "       [1.],\n",
              "       [1.]], dtype=float32)>"
            ]
          },
          "metadata": {},
          "execution_count": 138
        }
      ],
      "source": [
        "tf.nn.softmax(model.predict(x_test))"
      ]
    },
    {
      "cell_type": "code",
      "execution_count": null,
      "metadata": {
        "colab": {
          "base_uri": "https://localhost:8080/"
        },
        "id": "AEWziquQN1Mk",
        "outputId": "019fa99d-1dba-4e7e-daee-a892eddf1020"
      },
      "outputs": [
        {
          "output_type": "stream",
          "name": "stdout",
          "text": [
            "1/1 [==============================] - 0s 191ms/step - loss: 1.3401 - binary_accuracy: 0.1667\n",
            "1.340056300163269 0.1666666716337204\n"
          ]
        }
      ],
      "source": [
        "loss_val, accuracy_val = model.evaluate(x_test, y_test)\n",
        "print(loss_val, accuracy_val)"
      ]
    },
    {
      "cell_type": "markdown",
      "source": [
        "## Save the Model"
      ],
      "metadata": {
        "id": "cdDsXpsqjemu"
      }
    },
    {
      "cell_type": "code",
      "source": [
        "model.save(\"one.model\")"
      ],
      "metadata": {
        "colab": {
          "base_uri": "https://localhost:8080/",
          "height": 165
        },
        "id": "9EmX3EBIjoxH",
        "outputId": "d6fbaf0a-e89f-4971-ee4e-6bcc4fe42052"
      },
      "execution_count": null,
      "outputs": [
        {
          "output_type": "error",
          "ename": "NameError",
          "evalue": "ignored",
          "traceback": [
            "\u001b[0;31m---------------------------------------------------------------------------\u001b[0m",
            "\u001b[0;31mNameError\u001b[0m                                 Traceback (most recent call last)",
            "\u001b[0;32m<ipython-input-4-509dd53dfcaa>\u001b[0m in \u001b[0;36m<module>\u001b[0;34m()\u001b[0m\n\u001b[0;32m----> 1\u001b[0;31m \u001b[0mmodel\u001b[0m\u001b[0;34m.\u001b[0m\u001b[0msave\u001b[0m\u001b[0;34m(\u001b[0m\u001b[0;34m\"one.model\"\u001b[0m\u001b[0;34m)\u001b[0m\u001b[0;34m\u001b[0m\u001b[0;34m\u001b[0m\u001b[0m\n\u001b[0m",
            "\u001b[0;31mNameError\u001b[0m: name 'model' is not defined"
          ]
        }
      ]
    }
  ],
  "metadata": {
    "colab": {
      "collapsed_sections": [],
      "name": " XOR_IMPLIMENTATION.ipynb",
      "provenance": [],
      "toc_visible": true,
      "include_colab_link": true
    },
    "kernelspec": {
      "display_name": "Python 3",
      "name": "python3"
    },
    "language_info": {
      "name": "python"
    }
  },
  "nbformat": 4,
  "nbformat_minor": 0
}